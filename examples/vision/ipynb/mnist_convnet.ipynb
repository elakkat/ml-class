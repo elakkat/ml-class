{
  "cells": [
    {
      "cell_type": "markdown",
      "metadata": {
        "id": "hr0j09L9D22r"
      },
      "source": [
        "# Simple MNIST convnet\n",
        "\n",
        "**Author:** [fchollet](https://twitter.com/fchollet)<br>\n",
        "**Date created:** 2015/06/19<br>\n",
        "**Last modified:** 2020/04/21<br>\n",
        "**Description:** A simple convnet that achieves ~99% test accuracy on MNIST."
      ]
    },
    {
      "cell_type": "markdown",
      "metadata": {
        "id": "-1LydtBKD22x"
      },
      "source": [
        "## Setup"
      ]
    },
    {
      "cell_type": "code",
      "execution_count": 16,
      "metadata": {
        "id": "uVfZnxocD22y"
      },
      "outputs": [],
      "source": [
        "import numpy as np\n",
        "from tensorflow import keras\n",
        "from tensorflow.keras import layers\n",
        "import tensorflow as tf\n",
        "\n",
        "import numpy as np\n",
        "import pandas as pd\n",
        "import random\n",
        "import pickle\n",
        "import sklearn\n",
        "from sklearn.metrics import accuracy_score\n",
        "import os\n",
        "\n"
      ]
    },
    {
      "cell_type": "markdown",
      "metadata": {
        "id": "qVNqujYOD220"
      },
      "source": [
        "## Prepare the data"
      ]
    },
    {
      "cell_type": "code",
      "execution_count": 5,
      "metadata": {
        "colab": {
          "base_uri": "https://localhost:8080/"
        },
        "id": "GZpqLWtTD220",
        "outputId": "5a486376-6481-46f4-9cca-e072aa4dba39"
      },
      "outputs": [
        {
          "output_type": "stream",
          "name": "stdout",
          "text": [
            "x_train shape: (5999, 28, 28, 1)\n",
            "5999 train samples\n",
            "10000 test samples\n"
          ]
        }
      ],
      "source": [
        "# Model / data parameters\n",
        "num_classes = 10\n",
        "input_shape = (28, 28, 1)\n",
        "\n",
        "# the data, split between train and test sets\n",
        "(x_train, y_train), (x_test, y_test) = keras.datasets.mnist.load_data()\n",
        "\n",
        "x_train=x_train[1:6000,:,:]\n",
        "y_train=y_train[1:6000]\n",
        "\n",
        "# Scale images to the [0, 1] range\n",
        "x_train = x_train.astype(\"float32\") / 255\n",
        "x_test = x_test.astype(\"float32\") / 255\n",
        "# Make sure images have shape (28, 28, 1)\n",
        "x_train = np.expand_dims(x_train, -1)\n",
        "x_test = np.expand_dims(x_test, -1)\n",
        "print(\"x_train shape:\", x_train.shape)\n",
        "print(x_train.shape[0], \"train samples\")\n",
        "print(x_test.shape[0], \"test samples\")\n",
        "\n",
        "\n",
        "# convert class vectors to binary class matrices\n",
        "y_train = keras.utils.to_categorical(y_train, num_classes)\n",
        "y_test = keras.utils.to_categorical(y_test, num_classes)"
      ]
    },
    {
      "cell_type": "markdown",
      "metadata": {
        "id": "FzzjWzcAD221"
      },
      "source": [
        "## Build the model"
      ]
    },
    {
      "cell_type": "code",
      "execution_count": null,
      "metadata": {
        "id": "eQYKNBF0D222"
      },
      "outputs": [],
      "source": [
        "model = keras.Sequential(\n",
        "    [\n",
        "        keras.Input(shape=input_shape),\n",
        "        layers.Conv2D(32, kernel_size=(3, 3), activation=\"relu\"),\n",
        "        layers.MaxPooling2D(pool_size=(2, 2)),\n",
        "        layers.Conv2D(64, kernel_size=(3, 3), activation=\"relu\", name='conv2'),\n",
        "        layers.MaxPooling2D(pool_size=(2, 2)),\n",
        "        layers.Flatten(),\n",
        "        layers.Dropout(0.5),\n",
        "        layers.Dense(num_classes, activation=\"softmax\"),\n",
        "    ]\n",
        ")\n",
        "\n",
        "model.summary()"
      ]
    },
    {
      "cell_type": "code",
      "source": [
        "model = keras.Sequential(name=\"sequential1\")\n",
        "   \n",
        "layer1=model.add(keras.Input(shape=input_shape))\n",
        "layer2=model.add(layers.Conv2D(32, kernel_size=(3, 3), activation=\"relu\"))\n",
        "layer3=model.add(layers.MaxPooling2D(pool_size=(2, 2))\n",
        "layer4=model.add(layers.Conv2D(64, kernel_size=(3, 3), activation=\"relu\"))\n",
        "\n",
        "layer5=model.add(layers.MaxPooling2D(pool_size=(2, 2)))\n",
        "layer6=model.add(layers.Flatten())\n",
        "layer7=model.add(layers.Dropout(0.5))\n",
        "layer8=model.add(layers.Dense(num_classes, activation=\"softmax\"))\n",
        "\n",
        "model.summary()"
      ],
      "metadata": {
        "colab": {
          "base_uri": "https://localhost:8080/",
          "height": 130
        },
        "id": "H6d-og11VFC7",
        "outputId": "4ecf4909-a18c-4dc3-ec13-69be44f0b32a"
      },
      "execution_count": 50,
      "outputs": [
        {
          "output_type": "error",
          "ename": "SyntaxError",
          "evalue": "ignored",
          "traceback": [
            "\u001b[0;36m  File \u001b[0;32m\"<ipython-input-50-ed9abde05410>\"\u001b[0;36m, line \u001b[0;32m6\u001b[0m\n\u001b[0;31m    layer4=model.add(layers.Conv2D(32, kernel_size=(3, 3), activation=\"relu\"))\u001b[0m\n\u001b[0m         ^\u001b[0m\n\u001b[0;31mSyntaxError\u001b[0m\u001b[0;31m:\u001b[0m invalid syntax\n"
          ]
        }
      ]
    },
    {
      "cell_type": "code",
      "source": [
        "print(model.layers)"
      ],
      "metadata": {
        "colab": {
          "base_uri": "https://localhost:8080/"
        },
        "id": "xoRh-WZkR-dr",
        "outputId": "1c33409a-0b1a-4b02-bedf-b1d406fcb67b"
      },
      "execution_count": 43,
      "outputs": [
        {
          "output_type": "stream",
          "name": "stdout",
          "text": [
            "[<keras.layers.convolutional.Conv2D object at 0x7f23d766da90>, <keras.layers.pooling.MaxPooling2D object at 0x7f23d8907c10>, <keras.layers.convolutional.Conv2D object at 0x7f23d8907310>, <keras.layers.pooling.MaxPooling2D object at 0x7f23d76b8d10>, <keras.layers.core.flatten.Flatten object at 0x7f23d89371d0>, <keras.layers.core.dropout.Dropout object at 0x7f23d8937d10>, <keras.layers.core.dense.Dense object at 0x7f23d760e290>]\n"
          ]
        }
      ]
    },
    {
      "cell_type": "markdown",
      "metadata": {
        "id": "iZcpiySND223"
      },
      "source": [
        "## Train the model"
      ]
    },
    {
      "cell_type": "code",
      "execution_count": null,
      "metadata": {
        "id": "1FDFE50kD223"
      },
      "outputs": [],
      "source": [
        "batch_size = 128\n",
        "epochs = 15\n",
        "\n",
        "model.compile(loss=\"categorical_crossentropy\", optimizer=\"adam\", metrics=[\"accuracy\"])\n",
        "\n",
        "model.fit(x_train, y_train, batch_size=batch_size, epochs=epochs, validation_split=0.1)"
      ]
    },
    {
      "cell_type": "markdown",
      "metadata": {
        "id": "vR0WE6yCD225"
      },
      "source": [
        "## Evaluate the trained model"
      ]
    },
    {
      "cell_type": "code",
      "execution_count": 8,
      "metadata": {
        "colab": {
          "base_uri": "https://localhost:8080/"
        },
        "id": "ZSCUThyjD226",
        "outputId": "fed2c348-f567-436b-c802-fc75405f84e5"
      },
      "outputs": [
        {
          "output_type": "stream",
          "name": "stdout",
          "text": [
            "Test loss: 0.08362270146608353\n",
            "Test accuracy: 0.974399983882904\n"
          ]
        }
      ],
      "source": [
        "score = model.evaluate(x_test, y_test, verbose=0)\n",
        "print(\"Test loss:\", score[0])\n",
        "print(\"Test accuracy:\", score[1])"
      ]
    },
    {
      "cell_type": "code",
      "source": [
        "model.save('MNIST6000_12_7_2021.model')"
      ],
      "metadata": {
        "colab": {
          "base_uri": "https://localhost:8080/"
        },
        "id": "UZNBZ8flFcba",
        "outputId": "9e8f133f-766d-4996-b53a-39188922773d"
      },
      "execution_count": 9,
      "outputs": [
        {
          "output_type": "stream",
          "name": "stdout",
          "text": [
            "INFO:tensorflow:Assets written to: MNIST6000_12_7_2021.model/assets\n"
          ]
        }
      ]
    },
    {
      "cell_type": "code",
      "source": [
        "new_model=tf.keras.models.load_model('MNIST6000_12_7_2021.model')"
      ],
      "metadata": {
        "id": "791mUntgFwAg"
      },
      "execution_count": 13,
      "outputs": []
    },
    {
      "cell_type": "code",
      "source": [
        "x_test=x_train[1:60,:,:]\n",
        "y_train=y_train[1:60]"
      ],
      "metadata": {
        "id": "xSKvlhTwGz8E"
      },
      "execution_count": 14,
      "outputs": []
    },
    {
      "cell_type": "code",
      "source": [
        "heatmap_df = pd.DataFrame()\n",
        "signal_df = pd.DataFrame()\n",
        "#for ih in range(1,1000):\n",
        "for ih in range(1,10):\n",
        "  \n",
        "    predictions=new_model.predict(x_test)\n",
        "#    print(predictions)\n",
        "    #------------------------------------------------------\n",
        "    with tf.GradientTape() as tape:\n",
        "        last_conv_layer = new_model.get_layer('conv2')\n",
        "        iterate = tf.keras.models.Model([new_model.inputs], [new_model.output, last_conv_layer.output])\n",
        "        model_out, last_conv_layer = iterate(x_test)\n",
        "        class_out = model_out[:, np.argmax(model_out[0])]\n",
        "        grads = tape.gradient(class_out, last_conv_layer)\n",
        "        pooled_grads = tf.keras.backend.mean(grads, axis=(0, 1, 2))\n",
        "        \n",
        "    heatmap = tf.reduce_mean(tf.multiply(pooled_grads, last_conv_layer), axis=-1)\n",
        "    heatmap = np.maximum(heatmap, 0)\n",
        "    heatmap /= np.max(heatmap)\n",
        "    df2 = pd.DataFrame(heatmap.transpose())\n",
        "    if (len(heatmap_df)== 0): \n",
        "        heatmap_df= df2\n",
        "    else:\n",
        "        heatmap_df[k]=df2\n",
        "    \n",
        "    df2signal= pd.DataFrame(x_test_one.transpose()) \n",
        "    \n",
        "    if (len(signal_df)== 0): \n",
        "        signal_df= df2signal\n",
        "    else:\n",
        "        signal_df[k]=df2signal"
      ],
      "metadata": {
        "colab": {
          "base_uri": "https://localhost:8080/",
          "height": 391
        },
        "id": "Fes295OeKo2k",
        "outputId": "9a1165b5-b7e3-4a9c-d1d4-e6ae0a8a45ad"
      },
      "execution_count": 30,
      "outputs": [
        {
          "output_type": "error",
          "ename": "ValueError",
          "evalue": "ignored",
          "traceback": [
            "\u001b[0;31m---------------------------------------------------------------------------\u001b[0m",
            "\u001b[0;31mValueError\u001b[0m                                Traceback (most recent call last)",
            "\u001b[0;32m<ipython-input-30-f05e2dff050c>\u001b[0m in \u001b[0;36m<module>\u001b[0;34m()\u001b[0m\n\u001b[1;32m      8\u001b[0m     \u001b[0;31m#------------------------------------------------------\u001b[0m\u001b[0;34m\u001b[0m\u001b[0;34m\u001b[0m\u001b[0;34m\u001b[0m\u001b[0m\n\u001b[1;32m      9\u001b[0m     \u001b[0;32mwith\u001b[0m \u001b[0mtf\u001b[0m\u001b[0;34m.\u001b[0m\u001b[0mGradientTape\u001b[0m\u001b[0;34m(\u001b[0m\u001b[0;34m)\u001b[0m \u001b[0;32mas\u001b[0m \u001b[0mtape\u001b[0m\u001b[0;34m:\u001b[0m\u001b[0;34m\u001b[0m\u001b[0;34m\u001b[0m\u001b[0m\n\u001b[0;32m---> 10\u001b[0;31m         \u001b[0mlast_conv_layer\u001b[0m \u001b[0;34m=\u001b[0m \u001b[0mnew_model\u001b[0m\u001b[0;34m.\u001b[0m\u001b[0mget_layer\u001b[0m\u001b[0;34m(\u001b[0m\u001b[0;34m'conv2'\u001b[0m\u001b[0;34m)\u001b[0m\u001b[0;34m\u001b[0m\u001b[0;34m\u001b[0m\u001b[0m\n\u001b[0m\u001b[1;32m     11\u001b[0m         \u001b[0miterate\u001b[0m \u001b[0;34m=\u001b[0m \u001b[0mtf\u001b[0m\u001b[0;34m.\u001b[0m\u001b[0mkeras\u001b[0m\u001b[0;34m.\u001b[0m\u001b[0mmodels\u001b[0m\u001b[0;34m.\u001b[0m\u001b[0mModel\u001b[0m\u001b[0;34m(\u001b[0m\u001b[0;34m[\u001b[0m\u001b[0mnew_model\u001b[0m\u001b[0;34m.\u001b[0m\u001b[0minputs\u001b[0m\u001b[0;34m]\u001b[0m\u001b[0;34m,\u001b[0m \u001b[0;34m[\u001b[0m\u001b[0mnew_model\u001b[0m\u001b[0;34m.\u001b[0m\u001b[0moutput\u001b[0m\u001b[0;34m,\u001b[0m \u001b[0mlast_conv_layer\u001b[0m\u001b[0;34m.\u001b[0m\u001b[0moutput\u001b[0m\u001b[0;34m]\u001b[0m\u001b[0;34m)\u001b[0m\u001b[0;34m\u001b[0m\u001b[0;34m\u001b[0m\u001b[0m\n\u001b[1;32m     12\u001b[0m         \u001b[0mmodel_out\u001b[0m\u001b[0;34m,\u001b[0m \u001b[0mlast_conv_layer\u001b[0m \u001b[0;34m=\u001b[0m \u001b[0miterate\u001b[0m\u001b[0;34m(\u001b[0m\u001b[0mx_test\u001b[0m\u001b[0;34m)\u001b[0m\u001b[0;34m\u001b[0m\u001b[0;34m\u001b[0m\u001b[0m\n",
            "\u001b[0;32m/usr/local/lib/python3.7/dist-packages/keras/engine/training.py\u001b[0m in \u001b[0;36mget_layer\u001b[0;34m(self, name, index)\u001b[0m\n\u001b[1;32m   2629\u001b[0m         \u001b[0;32mif\u001b[0m \u001b[0mlayer\u001b[0m\u001b[0;34m.\u001b[0m\u001b[0mname\u001b[0m \u001b[0;34m==\u001b[0m \u001b[0mname\u001b[0m\u001b[0;34m:\u001b[0m\u001b[0;34m\u001b[0m\u001b[0;34m\u001b[0m\u001b[0m\n\u001b[1;32m   2630\u001b[0m           \u001b[0;32mreturn\u001b[0m \u001b[0mlayer\u001b[0m\u001b[0;34m\u001b[0m\u001b[0;34m\u001b[0m\u001b[0m\n\u001b[0;32m-> 2631\u001b[0;31m       raise ValueError(f'No such layer: {name}. Existing layers are '\n\u001b[0m\u001b[1;32m   2632\u001b[0m                        f'{self.layers}.')\n\u001b[1;32m   2633\u001b[0m     raise ValueError('Provide either a layer name or layer index at '\n",
            "\u001b[0;31mValueError\u001b[0m: No such layer: conv2. Existing layers are [<keras.layers.convolutional.Conv2D object at 0x7f23d6301890>, <keras.layers.pooling.MaxPooling2D object at 0x7f23d6323650>, <keras.layers.convolutional.Conv2D object at 0x7f23d6307c10>, <keras.layers.pooling.MaxPooling2D object at 0x7f23d62f9d10>, <keras.layers.core.flatten.Flatten object at 0x7f23d62f5890>, <keras.layers.core.dropout.Dropout object at 0x7f23d6366f10>, <keras.layers.core.dense.Dense object at 0x7f23d6366550>]."
          ]
        }
      ]
    }
  ],
  "metadata": {
    "colab": {
      "collapsed_sections": [],
      "name": "mnist_convnet",
      "provenance": []
    },
    "kernelspec": {
      "display_name": "Python 3",
      "language": "python",
      "name": "python3"
    },
    "language_info": {
      "codemirror_mode": {
        "name": "ipython",
        "version": 3
      },
      "file_extension": ".py",
      "mimetype": "text/x-python",
      "name": "python",
      "nbconvert_exporter": "python",
      "pygments_lexer": "ipython3",
      "version": "3.7.0"
    }
  },
  "nbformat": 4,
  "nbformat_minor": 0
}